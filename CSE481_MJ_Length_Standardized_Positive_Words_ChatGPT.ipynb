{
  "cells": [
    {
      "cell_type": "markdown",
      "source": [
        "This notebook was used to make my final visualization(s) for positive language, which was the percentage of words in an abstract that were positive in a research scenario, such as \"novel\", \"speedup\" and \"beneficial\". The results of this did end up being put in my team's final deliverables, as we felt my findings were actionable for a researcher."
      ],
      "metadata": {
        "id": "moWPBA3UVkCB"
      }
    },
    {
      "cell_type": "code",
      "execution_count": null,
      "metadata": {
        "id": "Rq9xcmViKnKZ"
      },
      "outputs": [],
      "source": [
        "from pydrive.auth import GoogleAuth\n",
        "from pydrive.drive import GoogleDrive\n",
        "from google.colab import auth\n",
        "from oauth2client.client import GoogleCredentials\n",
        "\n",
        "# Authenticate and create the PyDrive client\n",
        "auth.authenticate_user()\n",
        "gauth = GoogleAuth()\n",
        "gauth.credentials = GoogleCredentials.get_application_default()\n",
        "drive = GoogleDrive(gauth)"
      ]
    },
    {
      "cell_type": "code",
      "execution_count": null,
      "metadata": {
        "colab": {
          "base_uri": "https://localhost:8080/"
        },
        "id": "pGRhCzMbCt2U",
        "outputId": "4304f57e-af2d-4fce-dbb6-7ec4ab9e4f6b"
      },
      "outputs": [
        {
          "output_type": "stream",
          "name": "stdout",
          "text": [
            "Mounted at /content/drive\n"
          ]
        }
      ],
      "source": [
        "from google.colab import drive\n",
        "drive.mount('/content/drive')"
      ]
    },
    {
      "cell_type": "code",
      "execution_count": null,
      "metadata": {
        "id": "Ixk5NhT6P-j9"
      },
      "outputs": [],
      "source": [
        "import json\n",
        "import csv\n",
        "import time\n",
        "import numpy as np\n",
        "import matplotlib.pyplot as plt\n",
        "import re\n",
        "import random\n",
        "import seaborn as sns\n",
        "import pandas as pd\n",
        "from scipy import stats\n",
        "import statistics"
      ]
    },
    {
      "cell_type": "markdown",
      "source": [
        "Actually determining what positive words to look for was very challenging. My team and I thought of many different approaches, but our final idea was asking ChatGPT to “Expand the current list of positive words that I have below and write your output in python list format (speak like an academic): [‘novel’,\n",
        "‘contribution’]\" (quote taken from our final report). The \"new words put in during construct validity\" were added after \"debugging\" my approach to calculating positive language, namely looking through abstracts and seeing if there were words I was missing or words from the ChatGPT list that should be removed."
      ],
      "metadata": {
        "id": "jvU4ZvUrWB6G"
      }
    },
    {
      "cell_type": "code",
      "source": [
        "positive_words = [\n",
        "    \"novel\",\n",
        "    \"innovative\",\n",
        "    \"groundbreaking\",\n",
        "    \"pioneering\",\n",
        "    \"insightful\",\n",
        "    \"ingenious\",\n",
        "    \"remarkable\",\n",
        "    \"significant\",\n",
        "    \"meaningful\",\n",
        "    \"valuable\",\n",
        "    \"exemplary\",\n",
        "    \"outstanding\",\n",
        "    \"exceptional\",\n",
        "    \"promising\",\n",
        "    \"advantageous\",\n",
        "    \"beneficial\",\n",
        "    \"profound\",\n",
        "    \"impactful\",\n",
        "    \"constructive\",\n",
        "    \"productive\",\n",
        "    \"commendable\",\n",
        "    \"praiseworthy\",\n",
        "    \"laudable\",\n",
        "    \"meritorious\",\n",
        "    \"stellar\",\n",
        "    \"splendid\",\n",
        "    \"excellent\",\n",
        "    \"superb\",\n",
        "    \"optimal\",\n",
        "    \"superlative\",\n",
        "    \"first-rate\",\n",
        "    \"top-notch\",\n",
        "    \"positive\",\n",
        "    \"optimistic\",\n",
        "    \"optimizes\",\n",
        "    \"encouraging\",\n",
        "    \"inspiring\",\n",
        "    \"motivating\",\n",
        "    \"hopeful\",\n",
        "    \"successful\",\n",
        "    \"accomplished\",\n",
        "    \"achievable\",\n",
        "    \"feasible\",\n",
        "    \"realistic\",\n",
        "    \"accessible\",\n",
        "    \"manageable\",\n",
        "    \"capable\",\n",
        "    \"competent\",\n",
        "    \"proficient\",\n",
        "    \"effective\",\n",
        "    \"efficient\",\n",
        "    \"admirable\",\n",
        "    \"notable\",\n",
        "    \"respectable\",\n",
        "    \"honorable\",\n",
        "    \"prestigious\",\n",
        "    \"distinguished\",\n",
        "    \"esteemed\",\n",
        "    \"venerated\",\n",
        "    \"respected\",\n",
        "    \"acknowledged\",\n",
        "    \"recognized\",\n",
        "    \"celebrated\",\n",
        "    \"satisfying\",\n",
        "    \"fulfilling\",\n",
        "    \"rewarding\",\n",
        "    \"credible\",\n",
        "    \"robust\",\n",
        "    \"valid\",\n",
        "    \"rigorous\",\n",
        "    \"comprehensive\",\n",
        "    \"thorough\",\n",
        "    \"well-designed\",\n",
        "    \"methodical\",\n",
        "    \"meticulous\",\n",
        "    \"precise\",\n",
        "    \"concise\",\n",
        "    \"persuasive\",\n",
        "    \"convincing\",\n",
        "    \"compelling\",\n",
        "    \"grounded\",\n",
        "    \"solid\",\n",
        "    \"substantial\",\n",
        "    \"meaningful\",\n",
        "    \"valuable\",\n",
        "    \"noteworthy\",\n",
        "    # new words put in during construct validity\n",
        "    \"strong\",\n",
        "    \"outperform\",\n",
        "    \"improve\",\n",
        "    \"verify\",\n",
        "    \"verified\",\n",
        "    \"achieve\",\n",
        "    \"speedup\"\n",
        "    # removed \"clear\"\n",
        "]"
      ],
      "metadata": {
        "id": "w3DdlUdgcTEf"
      },
      "execution_count": null,
      "outputs": []
    },
    {
      "cell_type": "code",
      "source": [
        "word_confounders = [ # words that include the fragments above but aren't as unconditionally positive\n",
        "    \"coefficient\",\n",
        "    \"optimality\",\n",
        "]"
      ],
      "metadata": {
        "id": "AC875pfeUH4d"
      },
      "execution_count": null,
      "outputs": []
    },
    {
      "cell_type": "code",
      "execution_count": null,
      "metadata": {
        "id": "VFjUuDbny9wu"
      },
      "outputs": [],
      "source": [
        "def find_word_amount(abstract):\n",
        "  temp = abstract.lower()\n",
        "  cnt = 0\n",
        "  for word in positive_words:\n",
        "    cnt += temp.count(word)\n",
        "  for no in word_confounders:\n",
        "    cnt -= temp.count(no)\n",
        "  return cnt"
      ]
    },
    {
      "cell_type": "markdown",
      "source": [
        "For this, I did not use PySpark. Its conversion of RDDs to Pandas dataframes, which is necessary for data visualization, is extremely slow, so iterating through all the entries in our datasets via basic Python methods was the approach my team and I decided on."
      ],
      "metadata": {
        "id": "u8Wvuh-5YaI_"
      }
    },
    {
      "cell_type": "code",
      "source": [
        "# get valid corpusids from pruned\n",
        "\n",
        "valid_ids = set()\n",
        "valid_ids_path = \"/content/drive/MyDrive/Data Science Capstone/Semantic Scholar Datasets/pruned.jsonl\"\n",
        "num_papers = 0\n",
        "with open(valid_ids_path, 'r') as fp:\n",
        "  for num_papers, line in enumerate(fp):\n",
        "    pass\n",
        "num_papers += 1\n",
        "print('Total number of (valid) CS papers', num_papers)\n",
        "with open(valid_ids_path, 'r') as f:\n",
        "  i = 0\n",
        "  for line in f:\n",
        "    i += 1\n",
        "    paper = json.loads(line)\n",
        "    valid_ids.add(int(paper[\"corpusid\"]))\n",
        "    if not i % 1555000:\n",
        "      print(\"Processed: {} / {} \\t {}%\".format(i, num_papers, (i / num_papers) * 100))\n",
        "  print(\"Processed: {} / {} \\t {}%\".format(i, num_papers, (i / num_papers) * 100))\n",
        "print(\"Created set of valid IDs.\")"
      ],
      "metadata": {
        "id": "T6XT_cu6EiEP",
        "colab": {
          "base_uri": "https://localhost:8080/"
        },
        "outputId": "74654456-c0ee-40b3-80c9-3329533ce9a7"
      },
      "execution_count": null,
      "outputs": [
        {
          "output_type": "stream",
          "name": "stdout",
          "text": [
            "Total number of (valid) CS papers 7796055\n",
            "Processed: 1555000 / 7796055 \t 19.945985501641537%\n",
            "Processed: 3110000 / 7796055 \t 39.891971003283075%\n",
            "Processed: 4665000 / 7796055 \t 59.837956504924605%\n",
            "Processed: 6220000 / 7796055 \t 79.78394200656615%\n",
            "Processed: 7775000 / 7796055 \t 99.72992750820767%\n",
            "Processed: 7796055 / 7796055 \t 100.0%\n",
            "Created set of valid IDs.\n"
          ]
        }
      ]
    },
    {
      "cell_type": "code",
      "source": [
        "print(len(\"aaa bbb\"))"
      ],
      "metadata": {
        "colab": {
          "base_uri": "https://localhost:8080/"
        },
        "id": "Wj5GmA8OBWON",
        "outputId": "f8dd4ef5-8eaa-4618-ffb2-39b67ccb957a"
      },
      "execution_count": null,
      "outputs": [
        {
          "output_type": "stream",
          "name": "stdout",
          "text": [
            "7\n"
          ]
        }
      ]
    },
    {
      "cell_type": "code",
      "source": [
        "print((\"Aaa bbb ccc\").count(' ') + 1)"
      ],
      "metadata": {
        "colab": {
          "base_uri": "https://localhost:8080/"
        },
        "id": "s60HtVm8HZjd",
        "outputId": "199c3ae0-726e-42d2-f0f8-4e8f2071e631"
      },
      "execution_count": null,
      "outputs": [
        {
          "output_type": "stream",
          "name": "stdout",
          "text": [
            "3\n"
          ]
        }
      ]
    },
    {
      "cell_type": "code",
      "source": [
        "ab_lengths = []"
      ],
      "metadata": {
        "id": "j9G_HPXU_AOX"
      },
      "execution_count": null,
      "outputs": []
    },
    {
      "cell_type": "code",
      "source": [
        "# Maps each ID to number of times the positive words appear in its abstract\n",
        "# divided by number of words in abstract\n",
        "\n",
        "abstracts_path = \"/content/drive/MyDrive/Data Science Capstone/Semantic Scholar Datasets/cs-abstracts.jsonl\"\n",
        "id_to_pos_count_dict = dict()\n",
        "num_papers = 11036829\n",
        "print('Total number of CS papers we have abstracts for:', num_papers)\n",
        "j = 0\n",
        "avg = 0\n",
        "with open(abstracts_path, 'r') as f:\n",
        "  i = 0\n",
        "  for line in f:\n",
        "    i += 1\n",
        "    paper = json.loads(line)\n",
        "    if int(paper[\"corpusid\"]) in valid_ids:\n",
        "      ab = str(paper[\"abstract\"])\n",
        "      num_words = ab.count(\" \") + 1\n",
        "      ab_lengths.append(num_words)\n",
        "      id_to_pos_count_dict[paper[\"corpusid\"]] = (find_word_amount(ab) / num_words)\n",
        "      j += 1\n",
        "      avg += num_words\n",
        "    if not i % 1000000:\n",
        "      print(\"Processed: {} / {} \\t {}%\".format(i, num_papers, (i / num_papers) * 100))\n",
        "print(\"Total number of valid CS papers/counts we have abstracts for:\", j)\n"
      ],
      "metadata": {
        "id": "ZL9Edi56HC_e",
        "colab": {
          "base_uri": "https://localhost:8080/"
        },
        "outputId": "3793ee77-1621-41c8-93f6-3c7012c98462"
      },
      "execution_count": null,
      "outputs": [
        {
          "output_type": "stream",
          "name": "stdout",
          "text": [
            "Total number of CS papers we have abstracts for: 11036829\n",
            "Processed: 1000000 / 11036829 \t 9.060573467252233%\n",
            "Processed: 2000000 / 11036829 \t 18.121146934504466%\n",
            "Processed: 3000000 / 11036829 \t 27.1817204017567%\n",
            "Processed: 4000000 / 11036829 \t 36.24229386900893%\n",
            "Processed: 5000000 / 11036829 \t 45.302867336261166%\n",
            "Processed: 6000000 / 11036829 \t 54.3634408035134%\n",
            "Processed: 7000000 / 11036829 \t 63.42401427076564%\n",
            "Processed: 8000000 / 11036829 \t 72.48458773801786%\n",
            "Processed: 9000000 / 11036829 \t 81.5451612052701%\n",
            "Processed: 10000000 / 11036829 \t 90.60573467252233%\n",
            "Processed: 11000000 / 11036829 \t 99.66630813977456%\n",
            "Total number of valid CS papers/counts we have abstracts for: 5660590\n"
          ]
        }
      ]
    },
    {
      "cell_type": "code",
      "source": [
        "print(\"Mean abstract word count:\", avg / j)\n",
        "print(\"Median abstract word count:\", np.median(ab_lengths))"
      ],
      "metadata": {
        "colab": {
          "base_uri": "https://localhost:8080/"
        },
        "id": "AlOSV8Aq_HGa",
        "outputId": "3e233868-309d-4e45-cfbc-e2dd4906cdaa"
      },
      "execution_count": null,
      "outputs": [
        {
          "output_type": "stream",
          "name": "stdout",
          "text": [
            "Mean abstract word count: 145.16207020822918\n",
            "Median abstract word count: 131.0\n"
          ]
        }
      ]
    },
    {
      "cell_type": "code",
      "source": [
        "# randomly sampling papers to visualize data of\n",
        "\n",
        "valid_abstract_ids_list = np.array(list(id_to_pos_count_dict.keys()))\n",
        "rand_ids = set()\n",
        "num_samples = 2000000\n",
        "random.seed(481)\n",
        "for _ in range(num_samples):\n",
        "  rand_ids.add(int(random.choice(valid_abstract_ids_list)))\n",
        "print(\"Randomly sampled {} / {} valid papers we have abstracts for, or {}%.\"\n",
        "        .format(len(rand_ids), len(valid_abstract_ids_list), ((len(rand_ids) / len(valid_abstract_ids_list)) * 100)))"
      ],
      "metadata": {
        "colab": {
          "base_uri": "https://localhost:8080/"
        },
        "id": "gfeNZkVFQ19F",
        "outputId": "bdff177a-363b-4118-89ea-ebe71a854730"
      },
      "execution_count": null,
      "outputs": [
        {
          "output_type": "stream",
          "name": "stdout",
          "text": [
            "Randomly sampled 1684861 / 5660590 valid papers we have abstracts for, or 29.76475950386797%.\n"
          ]
        }
      ]
    },
    {
      "cell_type": "code",
      "source": [
        "rand_cnt_dict = dict()\n",
        "for k, v in id_to_pos_count_dict.items():\n",
        "  if k in rand_ids:\n",
        "    rand_cnt_dict[k] = id_to_pos_count_dict[k]"
      ],
      "metadata": {
        "id": "ibqxKDFpe_tJ"
      },
      "execution_count": null,
      "outputs": []
    },
    {
      "cell_type": "markdown",
      "source": [
        "The below dataset contains the 5-year citation counts of all papers in our subset of Semantic Scholar data. The cell below that is essentially joining  the positive language data with the 5-year citation data."
      ],
      "metadata": {
        "id": "hK5yWvYQYT-n"
      }
    },
    {
      "cell_type": "code",
      "source": [
        "five_yr_citation_count_path = \"/content/drive/MyDrive/Data Science Capstone/Semantic Scholar Influence Metrics/citation-counts-5-yr.jsonl\"\n",
        "five_yr_citation_count_dict = dict()\n",
        "num_cits = 15569081"
      ],
      "metadata": {
        "id": "XF-VD7aAgYUU"
      },
      "execution_count": null,
      "outputs": []
    },
    {
      "cell_type": "code",
      "source": [
        "with open(five_yr_citation_count_path, 'r') as f:\n",
        "  i = 0\n",
        "  for line in f:\n",
        "    i += 1\n",
        "    paper = json.loads(line)\n",
        "    if int(paper[\"corpusid\"]) in rand_ids:\n",
        "      five_yr_citation_count_dict[paper[\"corpusid\"]] = paper[\"fiveYearCitationCount\"]\n",
        "    if not i % 1000000:\n",
        "      print(\"Processed: {} / {} \\t {}%\".format(i, num_cits, (i / num_cits) * 100))\n",
        "print(\"Created citation count dict. There are {} entries.\".format(len(five_yr_citation_count_dict)))"
      ],
      "metadata": {
        "id": "utDOxH9JGKdA",
        "colab": {
          "base_uri": "https://localhost:8080/"
        },
        "outputId": "1e8d5a27-b254-47b3-9d4e-6b8bf8c0abed"
      },
      "execution_count": null,
      "outputs": [
        {
          "output_type": "stream",
          "name": "stdout",
          "text": [
            "Processed: 1000000 / 15569081 \t 6.4229866875251025%\n",
            "Processed: 2000000 / 15569081 \t 12.845973375050205%\n",
            "Processed: 3000000 / 15569081 \t 19.268960062575307%\n",
            "Processed: 4000000 / 15569081 \t 25.69194675010041%\n",
            "Processed: 5000000 / 15569081 \t 32.11493343762551%\n",
            "Processed: 6000000 / 15569081 \t 38.53792012515061%\n",
            "Processed: 7000000 / 15569081 \t 44.96090681267571%\n",
            "Processed: 8000000 / 15569081 \t 51.38389350020082%\n",
            "Processed: 9000000 / 15569081 \t 57.806880187725916%\n",
            "Processed: 10000000 / 15569081 \t 64.22986687525102%\n",
            "Processed: 11000000 / 15569081 \t 70.65285356277612%\n",
            "Processed: 12000000 / 15569081 \t 77.07584025030123%\n",
            "Processed: 13000000 / 15569081 \t 83.49882693782632%\n",
            "Processed: 14000000 / 15569081 \t 89.92181362535142%\n",
            "Processed: 15000000 / 15569081 \t 96.34480031287653%\n",
            "Created citation count dict. There are 1684861 entries.\n"
          ]
        }
      ]
    },
    {
      "cell_type": "markdown",
      "source": [
        "Next, I loaded the positive language and citation data into lists, and binned the positive language data so the x-axis could represent percentage points (0.01, 0.02, etc.). I also set an x-axis limit because after a point, there are almost no data points. The visualization lowest in this notebook was put in our final report."
      ],
      "metadata": {
        "id": "qYzh00IJOkqy"
      }
    },
    {
      "cell_type": "code",
      "source": [
        "pcnt = []\n",
        "cit = []\n",
        "for id in rand_ids:\n",
        "  pcnt.append(id_to_pos_count_dict[id])\n",
        "  cit.append(five_yr_citation_count_dict[id])"
      ],
      "metadata": {
        "id": "keF0N7DRHW15"
      },
      "execution_count": null,
      "outputs": []
    },
    {
      "cell_type": "code",
      "source": [
        "bins = np.linspace(0, 1, 101)"
      ],
      "metadata": {
        "id": "TtDzMfgitBV5"
      },
      "execution_count": null,
      "outputs": []
    },
    {
      "cell_type": "code",
      "source": [
        "pcnt_bins = np.digitize(pcnt, bins)"
      ],
      "metadata": {
        "id": "v8mA1tr2uwmp"
      },
      "execution_count": null,
      "outputs": []
    },
    {
      "cell_type": "code",
      "source": [
        "pcnt_binned = np.take(bins, pcnt_bins-1)"
      ],
      "metadata": {
        "id": "9keC9nkbsxwO"
      },
      "execution_count": null,
      "outputs": []
    },
    {
      "cell_type": "code",
      "source": [
        "pcnt_binned[:10]"
      ],
      "metadata": {
        "id": "Gq0RmBButcsO",
        "colab": {
          "base_uri": "https://localhost:8080/"
        },
        "outputId": "ecfb5bfd-5ad5-4700-be55-f4085447ec8f"
      },
      "execution_count": null,
      "outputs": [
        {
          "output_type": "execute_result",
          "data": {
            "text/plain": [
              "array([0.  , 0.  , 0.  , 0.  , 0.01, 0.  , 0.  , 0.  , 0.  , 0.  ])"
            ]
          },
          "metadata": {},
          "execution_count": 21
        }
      ]
    },
    {
      "cell_type": "code",
      "source": [
        "df = pd.DataFrame({'pos':pcnt, 'cit':cit})"
      ],
      "metadata": {
        "id": "BfyC5GsR06fn"
      },
      "execution_count": null,
      "outputs": []
    },
    {
      "cell_type": "code",
      "source": [
        "pcnt2 = [p if p < 0.17 else 0.17 for p in pcnt_binned]"
      ],
      "metadata": {
        "id": "lCQO8E7yhHjb"
      },
      "execution_count": null,
      "outputs": []
    },
    {
      "cell_type": "code",
      "source": [
        "df2 = pd.DataFrame({'pos':pcnt2, 'cit':cit})"
      ],
      "metadata": {
        "id": "_zXWbkhyhZF0"
      },
      "execution_count": null,
      "outputs": []
    },
    {
      "cell_type": "code",
      "source": [
        "print(df2['pos'].value_counts(sort=True))"
      ],
      "metadata": {
        "colab": {
          "base_uri": "https://localhost:8080/"
        },
        "id": "UghXp1xt3OIp",
        "outputId": "34ea63d6-e9cd-4538-e161-46aaa429e0a5"
      },
      "execution_count": null,
      "outputs": [
        {
          "output_type": "stream",
          "name": "stdout",
          "text": [
            "0.00    979818\n",
            "0.01    413373\n",
            "0.02    183550\n",
            "0.03     68625\n",
            "0.04     24687\n",
            "0.05      9074\n",
            "0.06      3376\n",
            "0.07      1246\n",
            "0.08       562\n",
            "0.09       222\n",
            "0.10       132\n",
            "0.11        75\n",
            "0.12        34\n",
            "0.17        30\n",
            "0.13        22\n",
            "0.14        13\n",
            "0.16        11\n",
            "0.15        11\n",
            "Name: pos, dtype: int64\n"
          ]
        }
      ]
    },
    {
      "cell_type": "code",
      "source": [
        "sns.pointplot(data=df2, x=\"pos\", y=\"cit\").set(xlabel='Fraction of Words in Abstract That Are \\\"Positive\\\"', ylabel='5-Year Citation Count Estimate', title='Effect of a Paper\\'s Positive Word Count on its Influence')"
      ],
      "metadata": {
        "colab": {
          "base_uri": "https://localhost:8080/",
          "height": 524
        },
        "id": "aRHRx1xIwOup",
        "outputId": "c4890d26-d8c1-49ad-ae08-74d1e39f1aeb"
      },
      "execution_count": null,
      "outputs": [
        {
          "output_type": "execute_result",
          "data": {
            "text/plain": [
              "[Text(0.5, 0, 'Fraction of Words in Abstract That Are \"Positive\"'),\n",
              " Text(0, 0.5, '5-Year Citation Count Estimate'),\n",
              " Text(0.5, 1.0, \"Effect of a Paper's Positive Word Count on its Influence\")]"
            ]
          },
          "metadata": {},
          "execution_count": 26
        },
        {
          "output_type": "display_data",
          "data": {
            "text/plain": [
              "<Figure size 640x480 with 1 Axes>"
            ],
            "image/png": "[encoded data removed]"
          },
          "metadata": {}
        }
      ]
    },
    {
      "cell_type": "code",
      "source": [
        "pcnt3 = [p if p < 0.08 else 0.08 for p in pcnt_binned] #points beyond x=0.08 have high error/variance"
      ],
      "metadata": {
        "id": "D-a2RxYB4-7g"
      },
      "execution_count": null,
      "outputs": []
    },
    {
      "cell_type": "code",
      "source": [
        "df3 = pd.DataFrame({'pos':pcnt3, 'cit':cit})"
      ],
      "metadata": {
        "id": "XJKEr4v04ouL"
      },
      "execution_count": null,
      "outputs": []
    },
    {
      "cell_type": "code",
      "source": [
        "df3[\"pos_str\"] = df3[\"pos\"].map({0.0: \"0%\", 0.01: \"1%\", 0.02: \"2%\", 0.03: \"3%\", 0.04: \"4%\", 0.05: '5%',\n",
        "                                 0.06: \"6%\", 0.07: \"7%\", 0.08: \"8+%\"\n",
        "                                })"
      ],
      "metadata": {
        "id": "z1hS_-A3DazS"
      },
      "execution_count": null,
      "outputs": []
    },
    {
      "cell_type": "code",
      "source": [
        "df3 = df3.sort_values(\"pos_str\")"
      ],
      "metadata": {
        "id": "hbpLPvPYEgJb"
      },
      "execution_count": null,
      "outputs": []
    },
    {
      "cell_type": "code",
      "source": [
        "import matplotlib as mpl\n",
        "\n",
        "sns.set_theme()\n",
        "sns.set_style(\"white\")\n",
        "\n",
        "mpl.rcParams.update({\n",
        "    'font.size': 16,\n",
        "    'axes.titlesize': 17,\n",
        "    'axes.labelsize': 16,\n",
        "    'xtick.labelsize': 13,\n",
        "    'ytick.labelsize': 13,\n",
        "    'font.family': 'sans-serif',\n",
        "    'font.weight': 600,\n",
        "    'axes.labelweight': 600,\n",
        "    'axes.titleweight': 600,\n",
        "    'figure.autolayout': True\n",
        "    })"
      ],
      "metadata": {
        "id": "azO52X5Ct3nO"
      },
      "execution_count": null,
      "outputs": []
    },
    {
      "cell_type": "code",
      "source": [
        "sns.pointplot(data=df3, x=\"pos_str\", y=\"cit\", estimator=\"mean\").set(xlabel='Percent Positive Words', ylabel='Avg 5-year Citations')\n",
        "#plt.savefig('positivity_cnt_9_cutoff_remade.pdf', dpi=300)"
      ],
      "metadata": {
        "colab": {
          "base_uri": "https://localhost:8080/",
          "height": 486
        },
        "id": "9b_KIv-vhrxQ",
        "outputId": "a2af4830-44d1-46de-b4b9-f56579472809"
      },
      "execution_count": null,
      "outputs": [
        {
          "output_type": "execute_result",
          "data": {
            "text/plain": [
              "[Text(0.5, 0, 'Percent Positive Words'), Text(0, 0.5, 'Avg 5-year Citations')]"
            ]
          },
          "metadata": {},
          "execution_count": 32
        },
        {
          "output_type": "display_data",
          "data": {
            "text/plain": [
              "<Figure size 640x480 with 1 Axes>"
            ],
            "image/png": "[encoded data removed]"
          },
          "metadata": {}
        }
      ]
    },
    {
      "cell_type": "code",
      "source": [
        "print(df3['pos'].value_counts(sort=True))"
      ],
      "metadata": {
        "colab": {
          "base_uri": "https://localhost:8080/"
        },
        "id": "NRy7f7rx5FSE",
        "outputId": "66a5d0fe-e031-445d-88e0-27ba3b135fc8"
      },
      "execution_count": null,
      "outputs": [
        {
          "output_type": "stream",
          "name": "stdout",
          "text": [
            "0.00    979818\n",
            "0.01    413373\n",
            "0.02    183550\n",
            "0.03     68625\n",
            "0.04     24687\n",
            "0.05      9074\n",
            "0.06      3376\n",
            "0.07      1246\n",
            "0.08      1112\n",
            "Name: pos, dtype: int64\n"
          ]
        }
      ]
    },
    {
      "cell_type": "code",
      "source": [
        "temp = df3[(df3[\"pos\"] == 0.03)][\"cit\"]"
      ],
      "metadata": {
        "id": "pO7pSWBqQFep"
      },
      "execution_count": null,
      "outputs": []
    },
    {
      "cell_type": "code",
      "source": [
        "temp2 = np.array(temp)\n",
        "temp2[:5]"
      ],
      "metadata": {
        "colab": {
          "base_uri": "https://localhost:8080/"
        },
        "id": "CR3YjB1TQRmY",
        "outputId": "762221a5-c5b9-46d9-e20c-0e7fb13c4938"
      },
      "execution_count": null,
      "outputs": [
        {
          "output_type": "execute_result",
          "data": {
            "text/plain": [
              "array([ 1, 11,  4,  6,  0])"
            ]
          },
          "metadata": {},
          "execution_count": 35
        }
      ]
    },
    {
      "cell_type": "code",
      "source": [
        "print(np.mean(np.array(df3[(df3[\"pos\"] == 0.03)][\"cit\"])))"
      ],
      "metadata": {
        "colab": {
          "base_uri": "https://localhost:8080/"
        },
        "id": "LZZerX-CQ6Cx",
        "outputId": "e47ced13-d803-4da5-a7c5-72926686e4f0"
      },
      "execution_count": null,
      "outputs": [
        {
          "output_type": "stream",
          "name": "stdout",
          "text": [
            "9.489544626593807\n"
          ]
        }
      ]
    },
    {
      "cell_type": "code",
      "source": [
        "print(np.mean(np.array(df3[(df3[\"pos\"] == 0.0)][\"cit\"])))"
      ],
      "metadata": {
        "colab": {
          "base_uri": "https://localhost:8080/"
        },
        "id": "TDlVWpyBRBVU",
        "outputId": "5421a75e-48ff-4ce3-c831-f6b23197497b"
      },
      "execution_count": null,
      "outputs": [
        {
          "output_type": "stream",
          "name": "stdout",
          "text": [
            "6.247323482524306\n"
          ]
        }
      ]
    },
    {
      "cell_type": "code",
      "source": [
        "print(np.mean(np.array(df3[(df3[\"pos\"] == 0.08)][\"cit\"])))"
      ],
      "metadata": {
        "colab": {
          "base_uri": "https://localhost:8080/"
        },
        "id": "XHwISwCIQ7tn",
        "outputId": "2d533ac8-6206-4a92-ef35-a96f4daff04d"
      },
      "execution_count": null,
      "outputs": [
        {
          "output_type": "stream",
          "name": "stdout",
          "text": [
            "5.514388489208633\n"
          ]
        }
      ]
    },
    {
      "cell_type": "code",
      "source": [
        "# with open(\"pruned_ab_positive_counts.json\", \"w\") as outfile:\n",
        "#     json.dump(id_to_pos_count_dict, outfile)"
      ],
      "metadata": {
        "id": "tZAb-45PlUyX"
      },
      "execution_count": null,
      "outputs": []
    }
  ],
  "metadata": {
    "colab": {
      "provenance": []
    },
    "kernelspec": {
      "display_name": "Python 3",
      "name": "python3"
    },
    "language_info": {
      "name": "python"
    }
  },
  "nbformat": 4,
  "nbformat_minor": 0
}